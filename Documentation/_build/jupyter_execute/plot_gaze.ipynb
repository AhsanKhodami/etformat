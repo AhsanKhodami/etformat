{
 "cells": [
  {
   "cell_type": "markdown",
   "metadata": {},
   "source": [
    "# 🅿️ Plot Gaze"
   ]
  },
  {
   "cell_type": "markdown",
   "metadata": {},
   "source": [
    "`plot_gaze` is a fuction which plots gaze distribution during trials using `samples` files. It is useful to understand how the gaze is distributed during the trials."
   ]
  },
  {
   "cell_type": "markdown",
   "metadata": {},
   "source": [
    "```{warning}\n",
    "\n",
    "despite the ETdata viwer which removes exponential gaze data, this code keeps all gaze recorded from the moment `TRIALID` message is passed until the moment `TRIAL_RESULT` message is passed. \n",
    "\n",
    "This is the reason you may see two extra lines in the plot. \n",
    "\n",
    "```"
   ]
  },
  {
   "cell_type": "markdown",
   "metadata": {},
   "source": [
    "as it can be seen, you need to pass few important elements:\n",
    "\n",
    "- `samples` file\n",
    "This is the file where you obtain from [export](export.md) file\n",
    "\n",
    "- `trial` number:\n",
    "easily pass the number of trial for example 45 or else\n",
    "\n",
    "- `screen_width` and `screen_height`:\n",
    "These are the screen width and height of the screen where the experiment was conducted. This is important to scale the gaze points."
   ]
  },
  {
   "cell_type": "code",
   "execution_count": 1,
   "metadata": {},
   "outputs": [
    {
     "ename": "ModuleNotFoundError",
     "evalue": "No module named 'etformat'",
     "output_type": "error",
     "traceback": [
      "\u001b[31m---------------------------------------------------------------------------\u001b[39m",
      "\u001b[31mModuleNotFoundError\u001b[39m                       Traceback (most recent call last)",
      "\u001b[36mCell\u001b[39m\u001b[36m \u001b[39m\u001b[32mIn[1]\u001b[39m\u001b[32m, line 1\u001b[39m\n\u001b[32m----> \u001b[39m\u001b[32m1\u001b[39m \u001b[38;5;28;01mimport\u001b[39;00m\u001b[38;5;250m \u001b[39m\u001b[34;01metformat\u001b[39;00m\u001b[38;5;250m \u001b[39m\u001b[38;5;28;01mas\u001b[39;00m\u001b[38;5;250m \u001b[39m\u001b[34;01met\u001b[39;00m\n\u001b[32m      2\u001b[39m \u001b[38;5;28;01mimport\u001b[39;00m\u001b[38;5;250m \u001b[39m\u001b[34;01mpandas\u001b[39;00m\u001b[38;5;250m \u001b[39m\u001b[38;5;28;01mas\u001b[39;00m\u001b[38;5;250m \u001b[39m\u001b[34;01mpd\u001b[39;00m\n\u001b[32m      3\u001b[39m samples = pd.read_csv(\u001b[33mr\u001b[39m\u001b[33m\"\u001b[39m\u001b[33mK:\u001b[39m\u001b[33m\\\u001b[39m\u001b[33mPackages for python\u001b[39m\u001b[33m\\\u001b[39m\u001b[33metformat misc\u001b[39m\u001b[33m\\\u001b[39m\u001b[33mtest_samples.csv\u001b[39m\u001b[33m\"\u001b[39m)\n",
      "\u001b[31mModuleNotFoundError\u001b[39m: No module named 'etformat'"
     ]
    }
   ],
   "source": [
    "import etformat as et\n",
    "import pandas as pd\n",
    "samples = pd.read_csv(r\"K:\\Packages for python\\etformat misc\\test_samples.csv\")\n",
    "et.plot_gaze(samples, 45, screen_width=2560, screen_height=1440)"
   ]
  },
  {
   "cell_type": "markdown",
   "metadata": {},
   "source": [
    "function also provides detail of number of gaze recorded during the trial."
   ]
  }
 ],
 "metadata": {
  "kernelspec": {
   "display_name": "Python 3",
   "language": "python",
   "name": "python3"
  },
  "language_info": {
   "codemirror_mode": {
    "name": "ipython",
    "version": 3
   },
   "file_extension": ".py",
   "mimetype": "text/x-python",
   "name": "python",
   "nbconvert_exporter": "python",
   "pygments_lexer": "ipython3",
   "version": "3.12.8"
  }
 },
 "nbformat": 4,
 "nbformat_minor": 2
}