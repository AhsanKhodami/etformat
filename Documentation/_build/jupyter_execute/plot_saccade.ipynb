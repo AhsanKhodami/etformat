{
 "cells": [
  {
   "cell_type": "markdown",
   "metadata": {},
   "source": [
    "# 🅿️ Plot Saccades"
   ]
  },
  {
   "cell_type": "markdown",
   "metadata": {},
   "source": [
    "Saccades are essential for vision. They are rapid, ballistic eye movements that redirect the fovea to a new target. Saccades are typically classified into two types: **voluntary** and **reflexive**. Voluntary saccades are under conscious control and are used to explore the visual world. Reflexive saccades are automatic responses to sudden changes in the visual field."
   ]
  },
  {
   "cell_type": "markdown",
   "metadata": {},
   "source": [
    "to plot saccades using `etformat` you need to use the `plot_saccades` function. This function will plot the saccades on top of the gaze data. The saccades are plotted as lines with an arrow indicating the direction of the saccade."
   ]
  },
  {
   "cell_type": "code",
   "execution_count": 1,
   "metadata": {},
   "outputs": [
    {
     "ename": "ModuleNotFoundError",
     "evalue": "No module named 'etformat'",
     "output_type": "error",
     "traceback": [
      "\u001b[31m---------------------------------------------------------------------------\u001b[39m",
      "\u001b[31mModuleNotFoundError\u001b[39m                       Traceback (most recent call last)",
      "\u001b[36mCell\u001b[39m\u001b[36m \u001b[39m\u001b[32mIn[1]\u001b[39m\u001b[32m, line 1\u001b[39m\n\u001b[32m----> \u001b[39m\u001b[32m1\u001b[39m \u001b[38;5;28;01mimport\u001b[39;00m\u001b[38;5;250m \u001b[39m\u001b[34;01metformat\u001b[39;00m\u001b[38;5;250m \u001b[39m\u001b[38;5;28;01mas\u001b[39;00m\u001b[38;5;250m \u001b[39m\u001b[34;01met\u001b[39;00m\n\u001b[32m      2\u001b[39m \u001b[38;5;28;01mimport\u001b[39;00m\u001b[38;5;250m \u001b[39m\u001b[34;01mpandas\u001b[39;00m\u001b[38;5;250m \u001b[39m\u001b[38;5;28;01mas\u001b[39;00m\u001b[38;5;250m \u001b[39m\u001b[34;01mpd\u001b[39;00m\n\u001b[32m      3\u001b[39m events = pd.read_csv(\u001b[33mr\u001b[39m\u001b[33m\"\u001b[39m\u001b[33mK:\u001b[39m\u001b[33m\\\u001b[39m\u001b[33mPackages for python\u001b[39m\u001b[33m\\\u001b[39m\u001b[33metformat misc\u001b[39m\u001b[33m\\\u001b[39m\u001b[33mtest_events.csv\u001b[39m\u001b[33m\"\u001b[39m)\n",
      "\u001b[31mModuleNotFoundError\u001b[39m: No module named 'etformat'"
     ]
    }
   ],
   "source": [
    "import etformat as et\n",
    "import pandas as pd\n",
    "events = pd.read_csv(r\"K:\\Packages for python\\etformat misc\\test_events.csv\")\n",
    "et.plot_saccades(events, trial_number=3)"
   ]
  },
  {
   "cell_type": "code",
   "execution_count": null,
   "metadata": {},
   "outputs": [],
   "source": []
  }
 ],
 "metadata": {
  "kernelspec": {
   "display_name": "Python 3",
   "language": "python",
   "name": "python3"
  },
  "language_info": {
   "codemirror_mode": {
    "name": "ipython",
    "version": 3
   },
   "file_extension": ".py",
   "mimetype": "text/x-python",
   "name": "python",
   "nbconvert_exporter": "python",
   "pygments_lexer": "ipython3",
   "version": "3.12.8"
  }
 },
 "nbformat": 4,
 "nbformat_minor": 2
}